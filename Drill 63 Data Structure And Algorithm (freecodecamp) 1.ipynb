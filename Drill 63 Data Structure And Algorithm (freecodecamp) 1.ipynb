{
 "cells": [
  {
   "cell_type": "code",
   "execution_count": 1,
   "metadata": {},
   "outputs": [
    {
     "name": "stdout",
     "output_type": "stream",
     "text": [
      "Target found at index: 5\n"
     ]
    }
   ],
   "source": [
    "# linear search\n",
    "\n",
    "def linear_search(list, target):\n",
    "    # return index until target is found\n",
    "    for i in range(0, len(list)):\n",
    "        if list[i] == target:\n",
    "            return i\n",
    "    #return none if the the target is not found \n",
    "    return None\n",
    "\n",
    "def verify(index):\n",
    "    if index is not None:\n",
    "        print(\"Target found at index:\", index)\n",
    "    else:    \n",
    "        print(\"Target not found in list\")\n",
    "   \n",
    "        \n",
    "    \n",
    "\n",
    "list = [1, 2,4, 5,7,6, 24, 6, 50]\n",
    "target = 6\n",
    "\n",
    "result = linear_search(list, target)\n",
    "\n",
    "verify(result)\n"
   ]
  },
  {
   "cell_type": "code",
   "execution_count": 1,
   "metadata": {},
   "outputs": [
    {
     "name": "stdout",
     "output_type": "stream",
     "text": [
      "Target found at index: 6\n"
     ]
    }
   ],
   "source": [
    "# binary search\n",
    "\n",
    "def binary_search(list, target):\n",
    "    #keep track of the variable\n",
    "    first = 0\n",
    "    last = len(list) - 1\n",
    "    \n",
    "    #creating while loop to keep executing the loop until the condition evaluate to false \n",
    "    while first <= last:\n",
    "        midpoint = (first + last) // 2\n",
    "        \n",
    "        # evaluate whether the value at the midpoint equals the target\n",
    "        if list[midpoint] == target:\n",
    "            return midpoint\n",
    "        \n",
    "        # set the first number midpoint is less than the target\n",
    "        elif list[midpoint] < target:\n",
    "            first = midpoint + 1\n",
    "        # set the last number is midpoint is above the target\n",
    "        else:\n",
    "            last = midpoint - 1\n",
    "    return None\n",
    " \n",
    "    \n",
    "    \n",
    "def verify(index):\n",
    "    if index is not None:\n",
    "        print(\"Target found at index:\", index)\n",
    "    else:    \n",
    "        print(\"Target not found in list\")\n",
    "   \n",
    "        \n",
    "    \n",
    "\n",
    "list = [1, 2,4, 5,7,6, 24, 6, 50]\n",
    "target = 24\n",
    "\n",
    "result = binary_search(list, target)\n",
    "\n",
    "verify(result)\n"
   ]
  },
  {
   "cell_type": "code",
   "execution_count": 10,
   "metadata": {},
   "outputs": [
    {
     "name": "stdout",
     "output_type": "stream",
     "text": [
      "Target found at index: True\n"
     ]
    }
   ],
   "source": [
    "# recursive binary search\n",
    "# this will return true value if a target exis and false if not\n",
    "\n",
    "def recursive_binary_search(list, target):\n",
    "    if len(list) == 0:\n",
    "        return False\n",
    "    else:\n",
    "        midpoint = (len(list)) // 2\n",
    "        \n",
    "    if list[midpoint] == target:\n",
    "        return True\n",
    "    else:\n",
    "        if list[midpoint] < target:\n",
    "            return recursive_binary_search(list[midpoint + 1 :], target)\n",
    "        else:\n",
    "            return recursive_binary_search(list[:midpoint], target)\n",
    "    \n",
    "        \n",
    "    \n",
    "def verify(index):\n",
    "    if index is not None:\n",
    "        print(\"Target found at index:\", index)\n",
    "    else:    \n",
    "        print(\"Target not found in list\")\n",
    "        \n",
    "    \n",
    "\n",
    "#list = [1, 2,4, 5,7,6,6, 24, 50]\n",
    "#target = 24\n",
    "\n",
    "#resulti =  recursive_binary_search(list, target)\n",
    "\n",
    "#verify(resulti)\n",
    "\n",
    "    \n",
    "\n",
    "list = [1, 2,4, 5,6, 6, 7,24, 50]\n",
    "target = 6\n",
    "\n",
    "index = recursive_binary_search(list, target)\n",
    "\n",
    "verify(index)\n",
    "\n",
    " "
   ]
  },
  {
   "cell_type": "code",
   "execution_count": null,
   "metadata": {},
   "outputs": [],
   "source": []
  },
  {
   "cell_type": "code",
   "execution_count": null,
   "metadata": {},
   "outputs": [],
   "source": [
    "\n"
   ]
  }
 ],
 "metadata": {
  "kernelspec": {
   "display_name": "Python 3",
   "language": "python",
   "name": "python3"
  },
  "language_info": {
   "codemirror_mode": {
    "name": "ipython",
    "version": 3
   },
   "file_extension": ".py",
   "mimetype": "text/x-python",
   "name": "python",
   "nbconvert_exporter": "python",
   "pygments_lexer": "ipython3",
   "version": "3.7.6"
  }
 },
 "nbformat": 4,
 "nbformat_minor": 4
}
