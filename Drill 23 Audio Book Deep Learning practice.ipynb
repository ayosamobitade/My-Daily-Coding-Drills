{
 "cells": [
  {
   "cell_type": "markdown",
   "metadata": {},
   "source": [
    "# Data Science 2020 course \n",
    "## Audio Book Deep Learning\n",
    "\n",
    "### This is about the dataset of a book selling company\n",
    "\n",
    "#### What to include here\n",
    "1. how to subtitute average value in a column with empty spaces or null values\n",
    "2. how to do the process above in excell worksheet"
   ]
  },
  {
   "cell_type": "markdown",
   "metadata": {},
   "source": [
    "## Preprocess the Data"
   ]
  },
  {
   "cell_type": "code",
   "execution_count": 12,
   "metadata": {},
   "outputs": [],
   "source": [
    "# import necessary libraries\n",
    "\n",
    "import pandas as pd\n",
    "import numpy as np\n",
    "import matplotlib.pyplot as plt\n",
    "import seaborn as sn\n",
    "sn.set()"
   ]
  },
  {
   "cell_type": "code",
   "execution_count": 28,
   "metadata": {},
   "outputs": [],
   "source": [
    "# extract the dataset\n",
    "\n",
    "dataset = np.loadtxt(\"1.2 Audiobooks_data.csv\", delimiter=\",\")\n",
    "\n",
    "# Extract the unscaled imput and the unscaled target leaving the first column\n",
    "unscaled_input_all = dataset[:,1:-1]\n",
    "\n",
    "target_all = dataset[:,-1]\n"
   ]
  },
  {
   "cell_type": "code",
   "execution_count": 37,
   "metadata": {},
   "outputs": [],
   "source": [
    "# Balancing the dataset\n",
    "\n",
    "num_of_ones_target = int(np.sum(target_all))\n",
    "zero_target_counter = 0\n",
    "input_to_remove = []\n",
    "\n",
    "\n",
    "for i in range(target_all.shape[0]):\n",
    "    if target_all[i]== 0:\n",
    "        zero_target_counter += 1\n",
    "        if zero_target_counter > num_of_ones_target:\n",
    "            input_to_remove.append(i)\n",
    "            \n",
    "unscaled_input_prior = np.delete(unscaled_input_all, input_to_remove, axis=0)\n",
    "unscaled_target_prior = np.delete(target_all, input_to_remove, axis = 0)\n",
    "\n"
   ]
  },
  {
   "cell_type": "code",
   "execution_count": 44,
   "metadata": {},
   "outputs": [],
   "source": [
    "# standardising the imput\n",
    "\n",
    "from sklearn import preprocessing \n",
    "\n",
    "scaled_input = preprocessing.scale(unscaled_input_prior)\n",
    "\n",
    "\n"
   ]
  },
  {
   "cell_type": "code",
   "execution_count": 50,
   "metadata": {},
   "outputs": [],
   "source": [
    "# shuffling the data\n",
    "\n",
    "shuffle_indices = np.arange(scaled_input.shape[0])\n",
    "np.random.shuffle(shuffle_indices)\n",
    "\n",
    "\n",
    "shuffled_input = scaled_input[shuffle_indices]\n",
    "shuffled_target = unscaled_target_prior[shuffle_indices]"
   ]
  },
  {
   "cell_type": "code",
   "execution_count": 69,
   "metadata": {},
   "outputs": [],
   "source": [
    "# split the dataset into train, test and validation 80 10 10\n",
    "\n",
    "# take the sample count\n",
    "sample_count = shuffled_input.shape[0]\n",
    "\n",
    "train_sample_count = int(0.8 * sample_count)\n",
    "\n",
    "validation_sample_count = int(0.1 * sample_count)\n",
    "\n",
    "test_sample_count = sample_count - (train_sample_count + validation_sample_count)\n",
    "\n",
    "# take the train, test and validation\n",
    "\n",
    "train_inputs = shuffled_input[:train_sample_count]\n",
    "train_targets = shuffled_target[:train_sample_count]\n",
    "\n",
    "test_inputs = shuffled_input[:test_sample_count]\n",
    "test_targets = shuffled_target[:test_sample_count]\n",
    "\n",
    "validation_inputs = shuffled_input[:validation_sample_count]\n",
    "validation_targets = shuffled_target[:validation_sample_count]"
   ]
  },
  {
   "cell_type": "code",
   "execution_count": 70,
   "metadata": {},
   "outputs": [],
   "source": [
    "# save the three sample in the npz format\n",
    "\n",
    "\n",
    "np.savez(\"Audiobooks_data_train\", inputs = train_inputs, targets = train_targets)\n",
    "np.savez(\"Audiobooks_data_test\", inputs = test_inputs, targets = test_targets)\n",
    "np.savez(\"Audiobooks_data_validation\", inputs = validation_inputs, targets = validation_targets)\n",
    "\n"
   ]
  },
  {
   "cell_type": "markdown",
   "metadata": {},
   "source": [
    "## Create the machine learning algorithm"
   ]
  },
  {
   "cell_type": "code",
   "execution_count": 84,
   "metadata": {},
   "outputs": [],
   "source": [
    "import tensorflow as tf"
   ]
  },
  {
   "cell_type": "markdown",
   "metadata": {},
   "source": [
    "### Data"
   ]
  },
  {
   "cell_type": "code",
   "execution_count": 82,
   "metadata": {},
   "outputs": [],
   "source": [
    "# load the data\n",
    "\n",
    "npz = np.load(\"Audiobooks_data_train.npz\")\n",
    "\n",
    "train_inputs = npz[\"inputs\"].astype(np.float)\n",
    "train_targets = npz[\"targets\"].astype(np.int)\n",
    "\n",
    "ayo = np.load(\"Audiobooks_data_test.npz\")\n",
    "test_inputs = ayo[\"inputs\"].astype(np.float)\n",
    "test_targets = ayo[\"targets\"].astype(np.int)\n",
    "\n",
    "mumu = np.load(\"Audiobooks_data_validation.npz\")\n",
    "validation_inputs = mumu[\"inputs\"].astype(np.float)\n",
    "validation_targets = mumu[\"targets\"].astype(np.int)"
   ]
  },
  {
   "cell_type": "markdown",
   "metadata": {},
   "source": [
    "### Model\n",
    "\n",
    "Outline, Optimizer, Loss, Early stopping and Training"
   ]
  },
  {
   "cell_type": "code",
   "execution_count": 90,
   "metadata": {},
   "outputs": [
    {
     "name": "stdout",
     "output_type": "stream",
     "text": [
      "Epoch 1/100\n",
      "36/36 - 0s - loss: 0.6180 - accuracy: 0.6426 - val_loss: 0.5302 - val_accuracy: 0.7383\n",
      "Epoch 2/100\n",
      "36/36 - 0s - loss: 0.4922 - accuracy: 0.7449 - val_loss: 0.4491 - val_accuracy: 0.7785\n",
      "Epoch 3/100\n",
      "36/36 - 0s - loss: 0.4302 - accuracy: 0.7712 - val_loss: 0.4205 - val_accuracy: 0.7651\n",
      "Epoch 4/100\n",
      "36/36 - 0s - loss: 0.4004 - accuracy: 0.7751 - val_loss: 0.3983 - val_accuracy: 0.7718\n",
      "Epoch 5/100\n",
      "36/36 - 0s - loss: 0.3820 - accuracy: 0.7910 - val_loss: 0.3827 - val_accuracy: 0.7875\n",
      "Epoch 6/100\n",
      "36/36 - 0s - loss: 0.3713 - accuracy: 0.7985 - val_loss: 0.3718 - val_accuracy: 0.7919\n",
      "Epoch 7/100\n",
      "36/36 - 0s - loss: 0.3612 - accuracy: 0.8069 - val_loss: 0.3654 - val_accuracy: 0.7897\n",
      "Epoch 8/100\n",
      "36/36 - 0s - loss: 0.3546 - accuracy: 0.8083 - val_loss: 0.3601 - val_accuracy: 0.7987\n",
      "Epoch 9/100\n",
      "36/36 - 0s - loss: 0.3519 - accuracy: 0.8089 - val_loss: 0.3552 - val_accuracy: 0.7942\n",
      "Epoch 10/100\n",
      "36/36 - 0s - loss: 0.3518 - accuracy: 0.8075 - val_loss: 0.3517 - val_accuracy: 0.7919\n",
      "Epoch 11/100\n",
      "36/36 - 0s - loss: 0.3438 - accuracy: 0.8122 - val_loss: 0.3518 - val_accuracy: 0.8054\n",
      "Epoch 12/100\n",
      "36/36 - 0s - loss: 0.3411 - accuracy: 0.8145 - val_loss: 0.3464 - val_accuracy: 0.8009\n",
      "Epoch 13/100\n",
      "36/36 - 0s - loss: 0.3409 - accuracy: 0.8164 - val_loss: 0.3470 - val_accuracy: 0.8076\n",
      "Epoch 14/100\n",
      "36/36 - 0s - loss: 0.3405 - accuracy: 0.8125 - val_loss: 0.3468 - val_accuracy: 0.8076\n"
     ]
    },
    {
     "data": {
      "text/plain": [
       "<tensorflow.python.keras.callbacks.History at 0x18a18c0fd48>"
      ]
     },
     "execution_count": 90,
     "metadata": {},
     "output_type": "execute_result"
    }
   ],
   "source": [
    "input_size = 10\n",
    "output_size = 2\n",
    "hidden_layer_size = 50 \n",
    "\n",
    "model = tf.keras.Sequential([\n",
    "    tf.keras.layers.Dense(hidden_layer_size, activation = \"relu\"),\n",
    "    tf.keras.layers.Dense(hidden_layer_size, activation = \"relu\"),\n",
    "    tf.keras.layers.Dense(output_size, activation = \"softmax\")\n",
    "])\n",
    "\n",
    "model.compile(optimizer = \"adam\", loss = \"sparse_categorical_crossentropy\", metrics = [\"accuracy\"] )\n",
    "\n",
    "batch_size = 100\n",
    "early_stopping = tf.keras.callbacks.EarlyStopping(patience = 2)\n",
    "max_epochs = 100\n",
    "\n",
    "model.fit(train_inputs,\n",
    "         train_targets,\n",
    "         batch_size= batch_size,\n",
    "         epochs = max_epochs,\n",
    "          callbacks = [early_stopping],\n",
    "         validation_data = (validation_inputs, validation_targets),\n",
    "         verbose = 2)"
   ]
  },
  {
   "cell_type": "markdown",
   "metadata": {},
   "source": [
    "### Test the model\n"
   ]
  },
  {
   "cell_type": "code",
   "execution_count": 91,
   "metadata": {},
   "outputs": [
    {
     "name": "stdout",
     "output_type": "stream",
     "text": [
      "14/14 [==============================] - 0s 5ms/step - loss: 0.3460 - accuracy: 0.8080\n"
     ]
    }
   ],
   "source": [
    "test_loss, test_accuracy = model.evaluate(test_inputs, test_targets)"
   ]
  },
  {
   "cell_type": "code",
   "execution_count": 100,
   "metadata": {},
   "outputs": [
    {
     "name": "stdout",
     "output_type": "stream",
     "text": [
      "\n",
      " Test loss: 0.35, Test Accuracy: 80.80% .\n"
     ]
    }
   ],
   "source": [
    "print(\"\\n Test loss: {0:.2f}, Test Accuracy: {1:.2f}% .\".format(test_loss, test_accuracy * 100))"
   ]
  },
  {
   "cell_type": "code",
   "execution_count": null,
   "metadata": {},
   "outputs": [],
   "source": []
  }
 ],
 "metadata": {
  "kernelspec": {
   "display_name": "Python 3",
   "language": "python",
   "name": "python3"
  },
  "language_info": {
   "codemirror_mode": {
    "name": "ipython",
    "version": 3
   },
   "file_extension": ".py",
   "mimetype": "text/x-python",
   "name": "python",
   "nbconvert_exporter": "python",
   "pygments_lexer": "ipython3",
   "version": "3.7.6"
  }
 },
 "nbformat": 4,
 "nbformat_minor": 4
}
