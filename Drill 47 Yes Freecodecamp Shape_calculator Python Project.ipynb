{
 "cells": [
  {
   "cell_type": "code",
   "execution_count": null,
   "metadata": {},
   "outputs": [],
   "source": []
  },
  {
   "cell_type": "code",
   "execution_count": 1,
   "metadata": {},
   "outputs": [
    {
     "name": "stdout",
     "output_type": "stream",
     "text": [
      "50\n",
      "26\n",
      "Rectangle(width=3, height=10)\n",
      "81\n",
      "5.656854249492381\n",
      "Square(side=4)\n"
     ]
    }
   ],
   "source": [
    "\n",
    "import Drill_47_shape_calculator\n",
    "\n",
    "\n",
    "\n",
    "rect = Drill_47_shape_calculator.Rectangle(5, 10)\n",
    "print(rect.get_area())\n",
    "rect.set_width(3)\n",
    "print(rect.get_perimeter())\n",
    "print(rect)\n",
    "\n",
    "sq = Drill_47_shape_calculator.Square(9)\n",
    "print(sq.get_area())\n",
    "sq.set_side(4)\n",
    "print(sq.get_diagonal())\n",
    "print(sq)\n",
    "    \n",
    "    "
   ]
  },
  {
   "cell_type": "code",
   "execution_count": 5,
   "metadata": {},
   "outputs": [
    {
     "name": "stdout",
     "output_type": "stream",
     "text": [
      "36\n"
     ]
    }
   ],
   "source": [
    "import Drill_47_shape_calculator\n",
    "\n",
    "moo = Drill_47_shape_calculator.Square(6)\n",
    "print(moo.get_area())"
   ]
  },
  {
   "cell_type": "code",
   "execution_count": 6,
   "metadata": {},
   "outputs": [
    {
     "name": "stdout",
     "output_type": "stream",
     "text": [
      "x                             x\n",
      "x                             x\n",
      "x                             x\n",
      "x                             x\n",
      "x                             x\n"
     ]
    }
   ],
   "source": [
    "x=0\n",
    "while x<5:\n",
    "    a = \"x\"\n",
    "    x+=1\n",
    "    fufu=str(a) + str(a).rjust(30)\n",
    "    \n",
    "    \n",
    "    print(fufu)"
   ]
  },
  {
   "cell_type": "code",
   "execution_count": 7,
   "metadata": {},
   "outputs": [
    {
     "name": "stdout",
     "output_type": "stream",
     "text": [
      "xx\n",
      "xx\n",
      "xx\n",
      "\n"
     ]
    }
   ],
   "source": [
    "def get_picture(width, height):\n",
    "    if width <50 or height < 50:\n",
    "        return (height * (width * \"x\" + \"\\n\"))            \n",
    "    else:\n",
    "        return \"Too big for picture\"\n",
    "    \n",
    "\n",
    "print(get_picture(2,3))"
   ]
  },
  {
   "cell_type": "code",
   "execution_count": 13,
   "metadata": {
    "scrolled": true
   },
   "outputs": [
    {
     "name": "stdout",
     "output_type": "stream",
     "text": [
      "Too big for picture,\n"
     ]
    }
   ],
   "source": [
    "\n",
    "import shape_calculator\n",
    "\n",
    "\n",
    "\n",
    "rect = shape_calculator.Rectangle(12, 10).get_picture()\n",
    "\n",
    "print(rect)"
   ]
  },
  {
   "cell_type": "code",
   "execution_count": 60,
   "metadata": {},
   "outputs": [
    {
     "name": "stdout",
     "output_type": "stream",
     "text": [
      "2\n"
     ]
    }
   ],
   "source": [
    "print(min(2,6))"
   ]
  },
  {
   "cell_type": "code",
   "execution_count": null,
   "metadata": {},
   "outputs": [],
   "source": [
    "My correct Answer: https://repl.it/repls/NativeCookedTrees"
   ]
  }
 ],
 "metadata": {
  "kernelspec": {
   "display_name": "Python 3",
   "language": "python",
   "name": "python3"
  },
  "language_info": {
   "codemirror_mode": {
    "name": "ipython",
    "version": 3
   },
   "file_extension": ".py",
   "mimetype": "text/x-python",
   "name": "python",
   "nbconvert_exporter": "python",
   "pygments_lexer": "ipython3",
   "version": "3.7.6"
  }
 },
 "nbformat": 4,
 "nbformat_minor": 4
}
