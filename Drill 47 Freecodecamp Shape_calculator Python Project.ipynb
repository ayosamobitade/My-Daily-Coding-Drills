{
 "cells": [
  {
   "cell_type": "code",
   "execution_count": 1,
   "metadata": {},
   "outputs": [],
   "source": [
    "# create class for shape calculator\n",
    "class Rectangle:\n",
    "    def __init__(self, width, height):\n",
    "        self.width = width\n",
    "        self.height = height\n",
    "        \n",
    "    def __str__(self):\n",
    "        return((\"Rectangle(width = {0}, heigth = {1})\").format(self.width, self.height))\n",
    "    \n",
    "    # for updating the width          \n",
    "    def set_width(self, value):\n",
    "        self.width = value\n",
    "        \n",
    "    \n",
    "    # for updating the height    \n",
    "    def set_height(self, value):\n",
    "        self.height = value\n",
    "\n",
    "    #calculate the area\n",
    "\n",
    "    def get_area(self):\n",
    "        area = (self.width * self.height)\n",
    "        return area\n",
    "\n",
    "    #calculate the perimeter\n",
    "\n",
    "    def get_perimeter(self):\n",
    "        perimeter =  (2*self.width) + (2* self.height)\n",
    "        return perimeter\n",
    "\n",
    "    # calculate the diagonal\n",
    "    def get_diagonal(self):\n",
    "        diagonal = (self.width **2 + self.height **2) ** .5\n",
    "        return diagonal\n",
    "    \n",
    "    # create a picture of the rectangle\n",
    "    def get_picture(self):\n",
    "        if self.height > 50:\n",
    "            return \"picture is too big\"\n",
    "        else:\n",
    "            return ((\"*\" * self.width )+ \"\\n\") * self.height\n",
    "     \n",
    "    # get ammount inside a shape\n",
    "    def get_amount_inside(self, Shape):\n",
    "          return self.get_area() // Shape.get_area()\n",
    "\n",
    "\n",
    "# Now do the same for Square\n",
    "\n",
    "class Square(Rectangle):\n",
    "    def __init__(self, side):\n",
    "        Rectangle.width = side\n",
    "        Rectangle.height = side\n",
    "    \n",
    "    def set_side(self, value):\n",
    "        Rectangle.set_width(self, value)\n",
    "        Rectangle.set_height(self, value) \n",
    "        \n",
    "    def __str__(self):\n",
    "        return((\"Square(side={0})\").format(self.width) )\n",
    "        \n",
    "           \n",
    "                  \n",
    "            \n",
    "\n",
    "   "
   ]
  },
  {
   "cell_type": "code",
   "execution_count": 2,
   "metadata": {
    "scrolled": true
   },
   "outputs": [
    {
     "name": "stdout",
     "output_type": "stream",
     "text": [
      "50\n",
      "26\n",
      "Rectangle(width = 3, heigth = 10)\n",
      "10.44030650891055\n",
      "***\n",
      "***\n",
      "***\n",
      "***\n",
      "***\n",
      "***\n",
      "***\n",
      "***\n",
      "***\n",
      "***\n",
      "\n"
     ]
    }
   ],
   "source": [
    "\n",
    "import Drill_47_2_shape_calculator\n",
    "\n",
    "\n",
    "\n",
    "rect = Drill_47_2_shape_calculator.Rectangle(5, 10)\n",
    "print(rect.get_area())\n",
    "rect.set_width(3)\n",
    "print(rect.get_perimeter())\n",
    "print(rect)\n",
    "\n",
    "print(rect.get_diagonal())\n",
    "print(rect.get_picture())\n",
    "    "
   ]
  },
  {
   "cell_type": "code",
   "execution_count": 3,
   "metadata": {},
   "outputs": [
    {
     "name": "stdout",
     "output_type": "stream",
     "text": [
      "81\n",
      "5.656854249492381\n",
      "Square(side=4)\n"
     ]
    }
   ],
   "source": [
    "sq = Drill_47_2_shape_calculator.Square(9)\n",
    "print(sq.get_area())\n",
    "sq.set_side(4)\n",
    "print(sq.get_diagonal())\n",
    "print(sq)\n",
    "    "
   ]
  },
  {
   "cell_type": "code",
   "execution_count": 4,
   "metadata": {},
   "outputs": [
    {
     "ename": "ModuleNotFoundError",
     "evalue": "No module named 'shape_calculator'",
     "output_type": "error",
     "traceback": [
      "\u001b[1;31m---------------------------------------------------------------------------\u001b[0m",
      "\u001b[1;31mModuleNotFoundError\u001b[0m                       Traceback (most recent call last)",
      "\u001b[1;32m<ipython-input-4-3293194ec06a>\u001b[0m in \u001b[0;36m<module>\u001b[1;34m\u001b[0m\n\u001b[1;32m----> 1\u001b[1;33m \u001b[1;32mimport\u001b[0m \u001b[0mshape_calculator\u001b[0m\u001b[1;33m\u001b[0m\u001b[1;33m\u001b[0m\u001b[0m\n\u001b[0m\u001b[0;32m      2\u001b[0m \u001b[1;33m\u001b[0m\u001b[0m\n\u001b[0;32m      3\u001b[0m \u001b[0mmoo\u001b[0m \u001b[1;33m=\u001b[0m \u001b[0mshape_calculator\u001b[0m\u001b[1;33m.\u001b[0m\u001b[0mSquare\u001b[0m\u001b[1;33m(\u001b[0m\u001b[1;36m4\u001b[0m\u001b[1;33m,\u001b[0m\u001b[1;36m6\u001b[0m\u001b[1;33m)\u001b[0m\u001b[1;33m\u001b[0m\u001b[1;33m\u001b[0m\u001b[0m\n\u001b[0;32m      4\u001b[0m \u001b[0mprint\u001b[0m\u001b[1;33m(\u001b[0m\u001b[0mmoo\u001b[0m\u001b[1;33m.\u001b[0m\u001b[0mget_area\u001b[0m\u001b[1;33m(\u001b[0m\u001b[1;33m)\u001b[0m\u001b[1;33m)\u001b[0m\u001b[1;33m\u001b[0m\u001b[1;33m\u001b[0m\u001b[0m\n",
      "\u001b[1;31mModuleNotFoundError\u001b[0m: No module named 'shape_calculator'"
     ]
    }
   ],
   "source": [
    "import shape_calculator\n",
    "\n",
    "moo = shape_calculator.Square(4,6)\n",
    "print(moo.get_area())"
   ]
  },
  {
   "cell_type": "code",
   "execution_count": 5,
   "metadata": {},
   "outputs": [
    {
     "name": "stdout",
     "output_type": "stream",
     "text": [
      "x                             x\n",
      "x                             x\n",
      "x                             x\n",
      "x                             x\n",
      "x                             x\n"
     ]
    }
   ],
   "source": [
    "x=0\n",
    "while x<5:\n",
    "    a = \"x\"\n",
    "    x+=1\n",
    "    fufu=str(a) + str(a).rjust(30)\n",
    "    \n",
    "    \n",
    "    print(fufu)"
   ]
  },
  {
   "cell_type": "code",
   "execution_count": 6,
   "metadata": {},
   "outputs": [
    {
     "name": "stdout",
     "output_type": "stream",
     "text": [
      "xx\n",
      "xx\n",
      "xx\n",
      "\n"
     ]
    }
   ],
   "source": [
    "def get_picture(width, height):\n",
    "    if width <50 or height < 50:\n",
    "        return (height * (width * \"x\" + \"\\n\"))            \n",
    "    else:\n",
    "        return \"Too big for picture\"\n",
    "    \n",
    "\n",
    "print(get_picture(2,3))"
   ]
  },
  {
   "cell_type": "code",
   "execution_count": 7,
   "metadata": {
    "scrolled": true
   },
   "outputs": [
    {
     "ename": "ModuleNotFoundError",
     "evalue": "No module named 'shape_calculator'",
     "output_type": "error",
     "traceback": [
      "\u001b[1;31m---------------------------------------------------------------------------\u001b[0m",
      "\u001b[1;31mModuleNotFoundError\u001b[0m                       Traceback (most recent call last)",
      "\u001b[1;32m<ipython-input-7-ece7f40d988d>\u001b[0m in \u001b[0;36m<module>\u001b[1;34m\u001b[0m\n\u001b[1;32m----> 1\u001b[1;33m \u001b[1;32mimport\u001b[0m \u001b[0mshape_calculator\u001b[0m\u001b[1;33m\u001b[0m\u001b[1;33m\u001b[0m\u001b[0m\n\u001b[0m\u001b[0;32m      2\u001b[0m \u001b[1;33m\u001b[0m\u001b[0m\n\u001b[0;32m      3\u001b[0m \u001b[1;33m\u001b[0m\u001b[0m\n\u001b[0;32m      4\u001b[0m \u001b[1;33m\u001b[0m\u001b[0m\n\u001b[0;32m      5\u001b[0m \u001b[0mrect\u001b[0m \u001b[1;33m=\u001b[0m \u001b[0mshape_calculator\u001b[0m\u001b[1;33m.\u001b[0m\u001b[0mRectangle\u001b[0m\u001b[1;33m(\u001b[0m\u001b[1;36m12\u001b[0m\u001b[1;33m,\u001b[0m \u001b[1;36m10\u001b[0m\u001b[1;33m)\u001b[0m\u001b[1;33m.\u001b[0m\u001b[0mget_picture\u001b[0m\u001b[1;33m(\u001b[0m\u001b[1;33m)\u001b[0m\u001b[1;33m\u001b[0m\u001b[1;33m\u001b[0m\u001b[0m\n",
      "\u001b[1;31mModuleNotFoundError\u001b[0m: No module named 'shape_calculator'"
     ]
    }
   ],
   "source": [
    "\n",
    "import shape_calculator\n",
    "\n",
    "\n",
    "\n",
    "rect = shape_calculator.Rectangle(12, 10).get_picture()\n",
    "\n",
    "print(rect)"
   ]
  },
  {
   "cell_type": "code",
   "execution_count": 8,
   "metadata": {},
   "outputs": [
    {
     "name": "stdout",
     "output_type": "stream",
     "text": [
      "2\n"
     ]
    }
   ],
   "source": [
    "print(min(2,6))"
   ]
  },
  {
   "cell_type": "code",
   "execution_count": null,
   "metadata": {},
   "outputs": [],
   "source": [
    "My correct Answer: https://repl.it/repls/NativeCookedTrees"
   ]
  }
 ],
 "metadata": {
  "kernelspec": {
   "display_name": "Python 3",
   "language": "python",
   "name": "python3"
  },
  "language_info": {
   "codemirror_mode": {
    "name": "ipython",
    "version": 3
   },
   "file_extension": ".py",
   "mimetype": "text/x-python",
   "name": "python",
   "nbconvert_exporter": "python",
   "pygments_lexer": "ipython3",
   "version": "3.7.6"
  }
 },
 "nbformat": 4,
 "nbformat_minor": 4
}
